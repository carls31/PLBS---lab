{
 "cells": [
  {
   "cell_type": "code",
   "execution_count": 43,
   "metadata": {},
   "outputs": [],
   "source": [
    "import matplotlib.pyplot as plt\n",
    "import scipy.linalg as linalg\n",
    "import numpy as np\n",
    "import pandas \n",
    "import math\n",
    "#import geopandas"
   ]
  },
  {
   "cell_type": "code",
   "execution_count": 55,
   "metadata": {},
   "outputs": [],
   "source": [
    "x_Geodetic_0 = np.array([44.39, 8.93889, 70])\n",
    "#x_Geodetic_0 = np.array([[44, 23, 24], [8, 56, 20], 70])\n",
    "sigma_0 = 10\n",
    "x_LL_A = np.array([0,30, 0])\n",
    "x_LL_B = np.array([0, -30, 0])\n",
    "x_LL_C = np.array([200, 0, 0])\n",
    "sigma_A = 2\n",
    "sigma_B = 2\n",
    "sigma_C = 10\n",
    "\n",
    "csi = np.array([0, 0, 10.23])\n",
    "eta = np.array([0, 0, 9.5])\n",
    "alpha = np.array([30, 27, 18])\n",
    "\n",
    "lambd = x_Geodetic_0[1]\n",
    "phi = x_Geodetic_0[0]\n",
    "h = x_Geodetic_0[2]\n",
    "\n",
    "a = 6378137\n",
    "e2 = 0.0818191908426215**2\n",
    "b = np.sqrt((a**2-1)/e2)\n",
    "\n",
    "R_N = a/np.sqrt(1 - e2*np.power(np.sin(phi),2))"
   ]
  },
  {
   "cell_type": "code",
   "execution_count": 56,
   "metadata": {},
   "outputs": [],
   "source": [
    "def sex2deg(a):\n",
    "    return(a[0] + a[1]/60 + a[2]/3600)"
   ]
  },
  {
   "cell_type": "code",
   "execution_count": 57,
   "metadata": {},
   "outputs": [],
   "source": [
    "def deg2rad(a):\n",
    "    return(a*np.pi/180)"
   ]
  },
  {
   "cell_type": "code",
   "execution_count": 72,
   "metadata": {},
   "outputs": [],
   "source": [
    "def deg2sex(a):\n",
    "    deg = np.fix(a)\n",
    "    mins = (a - deg)\n",
    "    secs = (mins - np.fix(mins))*60\n",
    "    return([deg, mins, secs])"
   ]
  },
  {
   "cell_type": "code",
   "execution_count": 42,
   "metadata": {},
   "outputs": [],
   "source": [
    "def rad2deg(a):\n",
    "    return(a*180/np.pi)"
   ]
  },
  {
   "cell_type": "code",
   "execution_count": 58,
   "metadata": {},
   "outputs": [],
   "source": [
    "def R():\n",
    "    a1 = deg2rad(sex2deg(csi))\n",
    "    a2 = deg2rad(sex2deg(eta))\n",
    "    a3 = deg2rad(sex2deg(alpha))\n",
    "    R_x = np.array([[1, 0, 0],\n",
    "                   [0, np.cos(a1), -np.sin(a1)],\n",
    "                   [0, np.sin(a1), np.cos(a1)]])\n",
    "    R_y = np.array([[np.cos(a2), 0, -np.sin(a2)],\n",
    "                   [0, 1, 0],\n",
    "                   [np.sin(a2), 0, np.cos(a2)]])\n",
    "    R_z = np.array([[np.cos(a3), np.sin(a3), 0],\n",
    "                   [-np.sin(a3), np.cos(a3), 0], \n",
    "                   [0, 0, 1]])\n",
    "    return(np.dot(R_z,R_y,R_x))"
   ]
  },
  {
   "cell_type": "code",
   "execution_count": 59,
   "metadata": {},
   "outputs": [],
   "source": [
    "def R_LL2LC(x_LL):\n",
    "    \n",
    "    return(np.dot(np.transpose(R()),x_LL))"
   ]
  },
  {
   "cell_type": "code",
   "execution_count": 60,
   "metadata": {},
   "outputs": [],
   "source": [
    "def R_0(l,fi):\n",
    "    return(np.array([[-np.sin(l), np.cos(l), 0],\n",
    "         [-np.sin(fi)*np.cos(l), -np.sin(fi)*np.sin(l), np.cos(fi)],\n",
    "         [ np.cos(fi)*np.cos(l), np.cos(fi)*np.sin(l), np.sin(fi)]]))"
   ]
  },
  {
   "cell_type": "code",
   "execution_count": 61,
   "metadata": {},
   "outputs": [],
   "source": [
    "def R_LC2GC(x_LC,x_GC_0):\n",
    "    return(x_GC_0+np.dot(np.transpose(R_0(deg2rad(lambd),deg2rad(phi))),x_LC))"
   ]
  },
  {
   "cell_type": "code",
   "execution_count": 67,
   "metadata": {},
   "outputs": [],
   "source": [
    "def Geodetic2GC():\n",
    "    \n",
    "    x = (R_N + h)*np.cos(deg2rad(phi))*np.cos(deg2rad(lambd))\n",
    "    y = (R_N + h)*np.cos(deg2rad(phi))*np.sin(deg2rad(lambd))\n",
    "    z = (R_N*(1-e2) + h)*np.sin(deg2rad(phi))\n",
    "\n",
    "    return(np.array([x, y, z]))"
   ]
  },
  {
   "cell_type": "code",
   "execution_count": 62,
   "metadata": {},
   "outputs": [],
   "source": [
    "def covariance(x_GC_0,X,Y,Z):\n",
    "    r = np.sqrt(X**2,Y**2)\n",
    "    Fi = math.atan2(Z,r*np.sqrt(1-e2))\n",
    "    l = math.atan2(Y,X)\n",
    "    fi = math.atan2(Z+e2*b*np.sin(Fi)**3,r-e2*a*cos(Fi)**3)\n",
    "\n",
    "\n",
    "    C_LL = np.array([[sigma_A**2,0,0],\n",
    "                     [0,sigma_B**2,0],\n",
    "                     [0,0,sigma_C**2]])\n",
    "\n",
    "    C_LC = np.dot(R(),C_LL,np.transpose(R()))\n",
    "    \n",
    "    C_GC = x_GC_0 + np.dot(np.transpose(R_0()),C_LC,R_0())\n",
    "\n",
    "    C_fin = np.dot(R_0(l,fi),C_GC,np.transpose(R_0(l,fi)))\n",
    "    \n",
    "    return "
   ]
  },
  {
   "cell_type": "code",
   "execution_count": 61,
   "metadata": {},
   "outputs": [
    {
     "name": "stdout",
     "output_type": "stream",
     "text": [
      "[[1 0 0]\n",
      " [1 0 0]\n",
      " [2 1 1]]\n"
     ]
    }
   ],
   "source": [
    "A= np.array([[1,0,0],[0,0,1],[0,1,0]])\n",
    "B= np.array([[1,0,1],[2,0,1],[0,1,0]])\n",
    "C= np.array([[0],[1],[0]])\n",
    "D= np.array([1,0,0])\n",
    "print(np.dot(A,C)+D)"
   ]
  },
  {
   "cell_type": "code",
   "execution_count": 71,
   "metadata": {},
   "outputs": [
    {
     "name": "stdout",
     "output_type": "stream",
     "text": [
      "x_GC_0 = [4504848.015  708573.393 4434267.524]\n",
      "x_LC_A = [-1.521e+01  2.586e+01  7.003e-04]\n",
      "x_LC_B = [ 1.521e+01 -2.586e+01 -7.003e-04]\n",
      "x_LC_C = [ 1.724e+02  1.014e+02 -7.941e-03]\n",
      "x_GC_A = [4504832.507  708555.561 4434286.004]\n",
      "x_GC_B = [4504863.523  708591.225 4434249.043]\n",
      "x_GC_C = [4504751.168  708732.685 4434339.958]\n"
     ]
    }
   ],
   "source": [
    "np.set_printoptions(precision=3)\n",
    "x_GC_0 = Geodetic2GC()\n",
    "print('x_GC_0 =',x_GC_0)\n",
    "x_LC_A = R_LL2LC(x_LL_A)\n",
    "x_LC_B = R_LL2LC(x_LL_B)\n",
    "x_LC_C = R_LL2LC(x_LL_C)\n",
    "print('x_LC_A =',x_LC_A)\n",
    "print('x_LC_B =',x_LC_B)\n",
    "print('x_LC_C =',x_LC_C)\n",
    "\n",
    "x_GC_A = R_LC2GC(x_LC_A,x_GC_0)\n",
    "x_GC_B = R_LC2GC(x_LC_B,x_GC_0)\n",
    "x_GC_C = R_LC2GC(x_LC_C,x_GC_0)\n",
    "print('x_GC_A =',x_GC_A)\n",
    "print('x_GC_B =',x_GC_B)\n",
    "print('x_GC_C =',x_GC_C)\n",
    "\n",
    "# from EPN website\n",
    "x_GC_A_ETRF = [4504832.9723   708554.9441  4434285.6299 ]\n",
    "x_GC_B_ETRF = [4504863.523    708591.225   4434249.043  ]\n",
    "x_GC_C_ETRF = [4504751.6333   708732.0681  4434339.5839 ]\n",
    "# from ETRF to Geodetic (remeber: lat and lon in sex)"
   ]
  }
 ],
 "metadata": {
  "kernelspec": {
   "display_name": "Python 3.9.5 64-bit",
   "language": "python",
   "name": "python3"
  },
  "language_info": {
   "codemirror_mode": {
    "name": "ipython",
    "version": 3
   },
   "file_extension": ".py",
   "mimetype": "text/x-python",
   "name": "python",
   "nbconvert_exporter": "python",
   "pygments_lexer": "ipython3",
   "version": "3.9.5"
  },
  "orig_nbformat": 4,
  "vscode": {
   "interpreter": {
    "hash": "1cce27c8212bf6c5aa96f33a3d1153887721b66c5c8cb9adeaa83cce09196b75"
   }
  }
 },
 "nbformat": 4,
 "nbformat_minor": 2
}
