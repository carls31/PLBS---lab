{
 "cells": [
  {
   "cell_type": "markdown",
   "metadata": {},
   "source": [
    "# Positioning and Location Based Services"
   ]
  },
  {
   "cell_type": "markdown",
   "metadata": {},
   "source": [
    "Let us consider a container ship sailing in Genova’s port. \n",
    "\n",
    "The ship is equipped with a GNSS receiver, which position\n",
    "is known in ITRF with a certain level of accuracy.\n",
    "\n",
    "The ship has a length of 300m and a width of 60m and \n",
    "given the considerable dimensions, a body\n",
    "reference frame is available for navigation purposes: it’s *origin* O is known and placed in\n",
    "correspondence of the GNSS receiver:\n",
    "\n",
    "- X axis is oriented in the motion direction; \n",
    "- Z axis is orthogonal to the ship plane and in the up direction;\n",
    "- Y axis is oriented to complete the righthanded triad. \n",
    "\n",
    "The position of three points A, B, C of the ship is provided in the body frame."
   ]
  },
  {
   "cell_type": "code",
   "execution_count": 11,
   "metadata": {},
   "outputs": [],
   "source": [
    "from PLBS import * # library of functions implemented during the labs\n",
    "import numpy as np"
   ]
  },
  {
   "cell_type": "code",
   "execution_count": 12,
   "metadata": {},
   "outputs": [],
   "source": [
    "x_Geodetic_0 = np.array([44.39, 8.93888888888889, 70])\n",
    "                            #   8.93388888888889\n",
    "                            #   lambd = 0.1560130425810487\n",
    "#x_Geodetic_0 = np.array([sex2deg[44, 23, 24], sex2deg[8, 56, 20],  70])\n",
    "\n",
    "x_LL_A = np.array([0,  30, 0])\n",
    "x_LL_B = np.array([0, -30, 0])\n",
    "x_LL_C = np.array([200, 0, 0])\n",
    "\n",
    "sigma_0 = 0.10 # meters\n",
    "sigma_A = 0.02 \n",
    "sigma_B = 0.02\n",
    "sigma_C = 0.10\n",
    "\n",
    "csi = np.array([0, 0, 10.23])\n",
    "eta = np.array([0, 0, 9.5])\n",
    "alpha = np.array([30, 27, 18])\n",
    "\n",
    "csi = deg2rad(sex2deg(csi))  \n",
    "eta = deg2rad(sex2deg(eta)) \n",
    "alpha = deg2rad(sex2deg(alpha))\n",
    "\n",
    "# the field 'T' represents the transposed matrix\n",
    "# @ is the matrix product, the method 'dot' is the matrix product"
   ]
  },
  {
   "cell_type": "code",
   "execution_count": 13,
   "metadata": {},
   "outputs": [
    {
     "name": "stdout",
     "output_type": "stream",
     "text": [
      "0.1560130425810487\n",
      "8.93388888888889\n",
      "0.15592577611844896\n"
     ]
    }
   ],
   "source": [
    "# the reason why we get different results\n",
    "print(deg2rad(x_Geodetic_0[1]))\n",
    "print(sex2deg(np.array([8, 56, 2]))) # == (x_Geodetic_0[1]) as expected\n",
    "print(deg2rad(sex2deg(np.array([8, 56, 2])))) # != deg2rad(x_Geodetic_0[1]) UNEXPECTED"
   ]
  },
  {
   "cell_type": "code",
   "execution_count": 14,
   "metadata": {},
   "outputs": [],
   "source": [
    "import sys \n",
    "orig_stdout = sys.stdout\n",
    "f = open('C:/Users/Utente/Documents/Python/Positioning_Lab/LAB01_results.txt','w')\n",
    "sys.stdout = f"
   ]
  },
  {
   "cell_type": "code",
   "execution_count": 15,
   "metadata": {},
   "outputs": [],
   "source": [
    "x_LC_A = R_LL2LC(x_LL_A,csi,eta,alpha)\n",
    "x_LC_B = R_LL2LC(x_LL_B,csi,eta,alpha)\n",
    "x_LC_C = R_LL2LC(x_LL_C,csi,eta,alpha)\n",
    "print('Local cartesian coordinates of point A, B, C [m]')\n",
    "print('Point A =')\n",
    "print('X:',round(x_LC_A[0],3))\n",
    "print('Y:',round(x_LC_A[1],3))\n",
    "print('Z:',round(x_LC_A[2],3))\n",
    "print('Point B =')\n",
    "print('X:',round(x_LC_B[0],3))\n",
    "print('Y:',round(x_LC_B[1],3))\n",
    "print('Z:',round(x_LC_B[2],3))\n",
    "print('Point C =')\n",
    "print('X:',round(x_LC_C[0],3))\n",
    "print('Y:',round(x_LC_C[1],3))\n",
    "print('Z:',round(x_LC_C[2],3))\n",
    "print(' ')\n",
    "\n",
    "x_GC_A = R_LC2GC(x_LC_A,x_Geodetic_0)\n",
    "x_GC_B = R_LC2GC(x_LC_B,x_Geodetic_0)\n",
    "x_GC_C = R_LC2GC(x_LC_C,x_Geodetic_0)\n",
    "print('ITRF global cartesian coordinates of point A, B, C [m]')\n",
    "print('Point A =')\n",
    "print('X:',round(x_GC_A[0],3))\n",
    "print('Y:',round(x_GC_A[1],3))\n",
    "print('Z:',round(x_GC_A[2],4))\n",
    "print('Point B =')\n",
    "print('X:',round(x_GC_B[0],3))\n",
    "print('Y:',round(x_GC_B[1],3))\n",
    "print('Z:',round(x_GC_B[2],4))\n",
    "print('Point C =')\n",
    "print('X:',round(x_GC_C[0],3))\n",
    "print('Y:',round(x_GC_C[1],3))\n",
    "print('Z:',round(x_GC_C[2],4))\n",
    "print(' ')\n",
    "#print('x_GC_0 =',[ round(elem, 3) for elem in Geodetic2GC(x_Geodetic_0) ])"
   ]
  },
  {
   "cell_type": "code",
   "execution_count": 16,
   "metadata": {},
   "outputs": [],
   "source": [
    "# from EPN website \n",
    "\n",
    "x_GC_A_ETRF = np.array([4509854.7918,   709344.8314,  4439228.7675])\n",
    "x_GC_B_ETRF = np.array([4509885.343,    709381.114,   4439192.183 ])\n",
    "x_GC_C_ETRF = np.array([4509773.4498,   709521.9474,  4439282.7195])\n",
    "print('ETRF global cartesian coordinates of point A, B, C [m]')\n",
    "print('Point A =')\n",
    "print('X:',round(x_GC_A_ETRF[0],4))\n",
    "print('Y:',round(x_GC_A_ETRF[1],4))\n",
    "print('Z:',round(x_GC_A_ETRF[2],4))\n",
    "print('Point B =')\n",
    "print('X:',round(x_GC_B_ETRF[0],4))\n",
    "print('Y:',round(x_GC_B_ETRF[1],4))\n",
    "print('Z:',round(x_GC_B_ETRF[2],4))\n",
    "print('Point C =')\n",
    "print('X:',round(x_GC_C_ETRF[0],4))\n",
    "print('Y:',round(x_GC_C_ETRF[1],4))\n",
    "print('Z:',round(x_GC_C_ETRF[2],4))"
   ]
  },
  {
   "cell_type": "code",
   "execution_count": 17,
   "metadata": {},
   "outputs": [],
   "source": [
    "# from ETRF to Geodetic (remeber: lat and lon in sex)\n",
    "\n",
    "x_Geodetic_A = GC2Geodetic(x_GC_A_ETRF)\n",
    "x_Geodetic_B = GC2Geodetic(x_GC_B_ETRF)\n",
    "x_Geodetic_C = GC2Geodetic(x_GC_C_ETRF)\n",
    "print('ETRF geodetic coordinates of points A, B, C')\n",
    "print('Point A =')\n",
    "print('latitude: ',[ round(elem, 4) for elem in deg2sex(x_Geodetic_A[0]) ] ) # angles already in degree\n",
    "print('longitude:',[ round(elem, 4) for elem in deg2sex(x_Geodetic_A[1]) ] )\n",
    "print('h:         ',round(x_Geodetic_A[2],4))\n",
    "print('Point B =')\n",
    "print('latitude: ',[ round(elem, 4) for elem in deg2sex(x_Geodetic_B[0]) ] )\n",
    "print('longitude:',[ round(elem, 4) for elem in deg2sex(x_Geodetic_B[1]) ] )\n",
    "print('h:         ',round(x_Geodetic_B[2],4))\n",
    "print('Point C =')\n",
    "print('latitude: ',[ round(elem, 4) for elem in deg2sex(x_Geodetic_C[0]) ] )\n",
    "print('longitude:',[ round(elem, 4) for elem in deg2sex(x_Geodetic_C[1]) ] )\n",
    "print('h:         ',round(x_Geodetic_C[2],4))"
   ]
  },
  {
   "cell_type": "code",
   "execution_count": 18,
   "metadata": {},
   "outputs": [],
   "source": [
    "C_A = 100*np.sqrt(np.diag(covariance(sigma_A,sigma_0,csi,eta,alpha,x_Geodetic_0)))\n",
    "C_C = 100*np.sqrt(np.diag(covariance(sigma_C,sigma_0,csi,eta,alpha,x_Geodetic_0)))\n",
    "print('Standard deviations of points A, B [cm]')\n",
    "print('E:',round(C_A[0],1))\n",
    "print('N:',round(C_A[1],1))\n",
    "print('U:',round(C_A[2],1))\n",
    "print(' ')\n",
    "print('Standard deviations of point C [cm]')\n",
    "print('E:',round(C_C[0],1))\n",
    "print('N:',round(C_C[1],1))\n",
    "print('U:',round(C_C[2],1))\n",
    "\n"
   ]
  },
  {
   "cell_type": "code",
   "execution_count": 19,
   "metadata": {},
   "outputs": [],
   "source": [
    "sys.stdout = orig_stdout\n",
    "f.close()"
   ]
  }
 ],
 "metadata": {
  "kernelspec": {
   "display_name": "Python 3.9.5 64-bit",
   "language": "python",
   "name": "python3"
  },
  "language_info": {
   "codemirror_mode": {
    "name": "ipython",
    "version": 3
   },
   "file_extension": ".py",
   "mimetype": "text/x-python",
   "name": "python",
   "nbconvert_exporter": "python",
   "pygments_lexer": "ipython3",
   "version": "3.9.5 (tags/v3.9.5:0a7dcbd, May  3 2021, 17:27:52) [MSC v.1928 64 bit (AMD64)]"
  },
  "vscode": {
   "interpreter": {
    "hash": "1cce27c8212bf6c5aa96f33a3d1153887721b66c5c8cb9adeaa83cce09196b75"
   }
  }
 },
 "nbformat": 4,
 "nbformat_minor": 2
}
